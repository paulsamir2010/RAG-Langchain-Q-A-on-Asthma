{
  "nbformat": 4,
  "nbformat_minor": 0,
  "metadata": {
    "colab": {
      "provenance": []
    },
    "kernelspec": {
      "name": "python3",
      "display_name": "Python 3"
    },
    "language_info": {
      "name": "python"
    }
  },
  "cells": [
    {
      "cell_type": "code",
      "execution_count": 3,
      "metadata": {
        "id": "k3K_Ck-ijcMZ"
      },
      "outputs": [],
      "source": [
        "import re\n"
      ]
    },
    {
      "cell_type": "code",
      "source": [
        "def check_pii(text):\n",
        "    \"\"\"\n",
        "    Function 1: Check for PII (email and phone)\n",
        "    \"\"\"\n",
        "    # Email pattern\n",
        "    email_pattern = r'[a-zA-Z0-9._%+-]+@[a-zA-Z0-9.-]+\\.[a-zA-Z]{2,}'\n",
        "    # Phone pattern (simple pattern for demonstration - # like 404 -644 -1234)\n",
        "    phone_pattern = r'\\b\\d{3}[-.]?\\d{3}[-.]?\\d{4}\\b' # like 404 -644 -1234\n",
        "\n",
        "    if re.search(email_pattern, text):\n",
        "      text = re.sub(email_pattern, '', text)\n",
        "\n",
        "    if re.search(phone_pattern, text):\n",
        "      text = re.sub(phone_pattern, '', text)\n",
        "\n",
        "    return text"
      ],
      "metadata": {
        "id": "034-MTqVj9RG"
      },
      "execution_count": 5,
      "outputs": []
    },
    {
      "cell_type": "code",
      "source": [
        "s = \"Email is paulsamir555@gmail.com and he lives in India\"\n",
        "\n",
        "text1 = check_pii(s)\n",
        "print(text1)"
      ],
      "metadata": {
        "colab": {
          "base_uri": "https://localhost:8080/"
        },
        "id": "yQq1YvZgmEV-",
        "outputId": "a5ae2194-2ea8-41c4-def5-a166c244ed4d"
      },
      "execution_count": 7,
      "outputs": [
        {
          "output_type": "stream",
          "name": "stdout",
          "text": [
            "Email is  and he lives in India\n"
          ]
        }
      ]
    },
    {
      "cell_type": "code",
      "source": [
        "s = \"Phone is 303-944-2356 and he lives in US\"\n",
        "\n",
        "text1 = check_pii(s)\n",
        "print(text1)"
      ],
      "metadata": {
        "colab": {
          "base_uri": "https://localhost:8080/"
        },
        "id": "8HZSQOXRmlzV",
        "outputId": "728be417-b7dd-4324-943d-f22cd3dfa9c9"
      },
      "execution_count": 8,
      "outputs": [
        {
          "output_type": "stream",
          "name": "stdout",
          "text": [
            "Phone is  and he lives in US\n"
          ]
        }
      ]
    },
    {
      "cell_type": "code",
      "source": [
        "s = \"Phone is 303-944-2356 and his email is jatindutta@gmail.com he lives in US\"\n",
        "\n",
        "text1 = check_pii(s)\n",
        "print(text1)"
      ],
      "metadata": {
        "colab": {
          "base_uri": "https://localhost:8080/"
        },
        "id": "CVo-yO1Jm4Kl",
        "outputId": "00db905e-b69e-4057-a3b6-dec103d57c10"
      },
      "execution_count": 9,
      "outputs": [
        {
          "output_type": "stream",
          "name": "stdout",
          "text": [
            "Phone is  and his email is  he lives in US\n"
          ]
        }
      ]
    },
    {
      "cell_type": "code",
      "source": [
        "def check_other_disease(text):\n",
        "    # List of other Diseases to avoid\n",
        "    other_diseases = ['Pneumonia', 'Tuberculosis']\n",
        "\n",
        "    for i in other_diseases:\n",
        "      text = text.replace(i, \" \")\n",
        "    return text"
      ],
      "metadata": {
        "id": "MUniA3aqtamT"
      },
      "execution_count": 5,
      "outputs": []
    },
    {
      "cell_type": "code",
      "source": [
        "s = \"India is incredible\"\n",
        "\n",
        "text1 = check_other_disease(s)\n",
        "print(text1)"
      ],
      "metadata": {
        "colab": {
          "base_uri": "https://localhost:8080/",
          "height": 33
        },
        "id": "q19X0hWJvCrz",
        "outputId": "7c0e2604-9243-451b-c635-39291355081f"
      },
      "execution_count": 7,
      "outputs": [
        {
          "output_type": "display_data",
          "data": {
            "text/plain": [
              "India is incredible\n"
            ],
            "text/html": [
              "<pre style=\"white-space:pre;overflow-x:auto;line-height:normal;font-family:Menlo,'DejaVu Sans Mono',consolas,'Courier New',monospace\">India is incredible\n",
              "</pre>\n"
            ]
          },
          "metadata": {}
        }
      ]
    },
    {
      "cell_type": "code",
      "source": [
        "s = \"Jack is undergoing treatment, as he has Tuberculosis\"\n",
        "\n",
        "text1 = check_other_disease(s)\n",
        "print(text1)"
      ],
      "metadata": {
        "colab": {
          "base_uri": "https://localhost:8080/",
          "height": 33
        },
        "id": "uu2J8rNOvcvr",
        "outputId": "b782b399-7c33-40f0-bc99-11417e55058e"
      },
      "execution_count": 8,
      "outputs": [
        {
          "output_type": "display_data",
          "data": {
            "text/plain": [
              "Jack is undergoing treatment, as he has  \n"
            ],
            "text/html": [
              "<pre style=\"white-space:pre;overflow-x:auto;line-height:normal;font-family:Menlo,'DejaVu Sans Mono',consolas,'Courier New',monospace\">Jack is undergoing treatment, as he has  \n",
              "</pre>\n"
            ]
          },
          "metadata": {}
        }
      ]
    }
  ]
}